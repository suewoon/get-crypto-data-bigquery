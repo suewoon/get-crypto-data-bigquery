{
 "cells": [
  {
   "cell_type": "markdown",
   "metadata": {},
   "source": [
    "Bitcoin Transaction 데이터 EDA\n",
    "---------------\n",
    "[1. Dataset 설명](#1)   \n",
    "- [bitcoin transaction](#1-1)  \n",
    "- [data dictionary](#1-2)  \n",
    "\n",
    "[2. EDA](#2)\n",
    "- [transaction amount와 input을 구성하는 UTXO 길이](#2-1)\n",
    "- [transaction amount in BTC vs. transaction count in time series](#2-2)\n",
    "- [script가 RETURN인 transaction 살펴보기](#2-3)"
   ]
  },
  {
   "cell_type": "markdown",
   "metadata": {},
   "source": [
    "<a name='1'></a>\n",
    "## 1. Dataset 설명\n",
    "BigQuery 사용을 위해 GCP 접근 설정을 했으면 (GCP 설정은 [블로그 글](http://suewoonryu.com/2018/02/04/bigquery-bitcoin/) 참고), 이제 `google.cloud`라이브러리를 사용해서 BigQuery 퍼블릭 데이터 셋을 활용 할 수 있다. 먼저 데이터셋에 있는 거래 데이터의 일부를 json으로 저장한 파일을 불러와서 `bigquery-public-data.bitcoin_blockchain.transactions`가 어떻게 구성되어있는지 보자."
   ]
  },
  {
   "cell_type": "code",
   "execution_count": 2,
   "metadata": {
    "collapsed": true
   },
   "outputs": [],
   "source": [
    "import json\n",
    "from pprint import pprint\n",
    "\n",
    "with open('tx.json') as data_file:    \n",
    "    data = json.load(data_file)"
   ]
  },
  {
   "cell_type": "code",
   "execution_count": 3,
   "metadata": {},
   "outputs": [
    {
     "name": "stdout",
     "output_type": "stream",
     "text": [
      "Columns: \n",
      "dict_keys(['timestamp', 'transaction_id', 'inputs', 'outputs', 'block_id', 'previous_block', 'merkle_root', 'nonce', 'version', 'work_terahash', 'work_error'])\n",
      "\n",
      "Inputs: \n",
      "[{'input_pubkey_base58': '1Ns9hUC2hrE1HARb1EgUJQuDezDdaaNjM5',\n",
      "  'input_pubkey_base58_error': None,\n",
      "  'input_script_bytes': 'SDBFAiAblvuJtZykYST+J2kPoTVmEaJL22f16xL7DpTtVe4qNgIhAKMS6zUpr8N8saHkTf4KHlIgmoX+NZ3qffubPvmaz+19ASECbsHnp8p4+NqzCaf455cdadgbo1ktexpdRmblE9NeAGU=',\n",
      "  'input_script_string': 'PUSHDATA(72)[304502201b96fb89b59ca46124fe27690fa1356611a24bdb67f5eb12fb0e94ed55ee2a36022100a312eb3529afc37cb1a1e44dfe0a1e52209a85fe359dea7dfb9b3ef99acfed7d01] '\n",
      "                         'PUSHDATA(33)[026ec1e7a7ca78f8dab309a7f8e7971d69d81ba3592d7b1a5d4666e513d35e0065]',\n",
      "  'input_script_string_error': None,\n",
      "  'input_sequence_number': '4294967295'},\n",
      " {'input_pubkey_base58': '14F7mKzBcxYNDEyPq9a53zmVbeix4Y64hC',\n",
      "  'input_pubkey_base58_error': None,\n",
      "  'input_script_bytes': 'SDBFAiEA+Oh7062AtYULerV/lsQi+aeI6z4IU4+f3dZJOF2mfxYCIF2CogFITVY7D9uDUBvF+PjVpZKOuDorlLWy23Jf5iHwASECygkXgu8tYZ6vUlPxvSqBSV02+Dc0tL2nLDvAQdZI17E=',\n",
      "  'input_script_string': 'PUSHDATA(72)[3045022100f8e87bd3ad80b5850b7ab57f96c422f9a788eb3e08538f9fddd649385da67f1602205d82a201484d563b0fdb83501bc5f8f8d5a5928eb83a2b94b5b2db725fe621f001] '\n",
      "                         'PUSHDATA(33)[02ca091782ef2d619eaf5253f1bd2a81495d36f83734b4bda72c3bc041d648d7b1]',\n",
      "  'input_script_string_error': None,\n",
      "  'input_sequence_number': '4294967295'}]\n",
      "\n",
      "Outputs: \n",
      "[{'output_pubkey_base58': '152DBm94PDVzX6ay8hZwyyaHofi6utXqjZ',\n",
      "  'output_pubkey_base58_error': None,\n",
      "  'output_satoshis': '547457829',\n",
      "  'output_script_bytes': 'dqkULBsXUE1QtQ5PWJohnBKWfbk+G5+IrA==',\n",
      "  'output_script_string': 'DUP HASH160 '\n",
      "                          'PUSHDATA(20)[2c1b17504d50b50e4f589a219c12967db93e1b9f] '\n",
      "                          'EQUALVERIFY CHECKSIG',\n",
      "  'output_script_string_error': None},\n",
      " {'output_pubkey_base58': '134KptCWbMyUC92Xi4beazQrxm91UYBLsN',\n",
      "  'output_pubkey_base58_error': None,\n",
      "  'output_satoshis': '200000000',\n",
      "  'output_script_bytes': 'dqkUFpE22JslVeZUG8O9UKCrguWTPySIrA==',\n",
      "  'output_script_string': 'DUP HASH160 '\n",
      "                          'PUSHDATA(20)[169136d89b2555e6541bc3bd50a0ab82e5933f24] '\n",
      "                          'EQUALVERIFY CHECKSIG',\n",
      "  'output_script_string_error': None}]\n"
     ]
    }
   ],
   "source": [
    "# Keys - Columns on table \n",
    "print(\"Columns: \")\n",
    "print(data[0].keys())\n",
    "print()\n",
    "\n",
    "# Inputs \n",
    "print(\"Inputs: \")\n",
    "pprint(data[0]['inputs'])\n",
    "print()\n",
    "\n",
    "# Outputs\n",
    "print(\"Outputs: \")\n",
    "pprint(data[0]['outputs'])"
   ]
  },
  {
   "cell_type": "markdown",
   "metadata": {},
   "source": [
    "Google BigQuery 데이터는 실제 raw data 표현이랑은 좀 다르지만, 그래도 일반적으로 거래소나 explorer에서 볼 수 있는 sender, recipient, balance같은 표현은 없다. 은행 거래와 비슷하게 표현하는 이런 것들은 우리한테 친숙한 형태로 보여주기 위한 high-level abstraction이라고 볼 수 있고 실제 transaction은 위와 같이 구성되어있다. Transacion을 구성하는 요소 중에서 timestamp, transaction_id, inputs, outputs를 제외한 나머지는 이 transaction이 confirm되어 들어간 block에 대한 정보이다. Transaction의 기본이 되는 Input, Output을 이해하기 위해서는 먼저 Bitcoin Transaction에 대해 알아야한다."
   ]
  },
  {
   "cell_type": "markdown",
   "metadata": {},
   "source": [
    "<a name='1-1'></a>\n",
    "### 1-1. Bitcoin Transaction\n",
    "비트코인 거래 데이터를 처음 볼 때 가장 의아할 수 있는 것은 아무래도 Input이 여러개로 구성되어 있고, 얼마의 bitcoin이 들어갔는지 안나온다는 점이다. 비트코인을 쓰는 주체는 1개인데 여러 input이 생기는 이유는 Bitcoin Transaction에 UTXO(Unspent Transaction Output)이 기본 chunk가 되어 이루어지기 때문이다. UTXO는 말 그대로 안쓰고 남은 것(?)인데, 현실세계에서 2700원짜리를 사기 위해 1000원짜리 3장을 냈다면 잔돈인 300원이 남게 되는데 이 300원을 UTXO라고 생각하면 쉽다. 문제는 애초에 나한테 있던 3000원도 비트코인 시스템에서는 지폐 다발로 존재하는 것이 아니라 이 전에 많은 거래에서 생겨난 UTXO의 합(aggregation)이라서, 그 전에 생겼던 잔돈들을 따로 구분해 놓는식이라고 하면 비슷한(?) 비유가 될 것같다.  \n",
    "\n",
    "그래서 우리가 사용하는 wallet에서 보여지는 balance라는 것은 실제로 존재하는게 아니고 내 wallet이 가진 private key로 ‘spend’할 수 있는 UTXO value의 총 합으로 보여질 뿐이다. 예를 들어 10BTC를 상대방에게 지불하려고 하는데 내가 쓸 수 있는 단일 UTXO의 value가 10BTC가 되지 않으면 여러 UTXO를 합쳐야 하기 때문에 Input이 여러 UTXO에 대한 reference로 이루어지게 된다. 각 Input이 얼마의 bitcoin인지는 그 UTXO reference를 통해서 알 수 있는 반면에 Output에서는 명시적으로 bitcoin amount가 표시되어 있다. \n",
    "\n",
    "<a name='1-2'></a>\n",
    "### 1-2. Data Dictionary\n",
    "table: `bigquery-public-data.bitcoin_blockchain.transactions`\n",
    "<table align=\"center\">\n",
    "\t<thead>\n",
    "\t\t<tr>\n",
    "\t\t\t<th>Column </th>\n",
    "\t\t\t<th>Data Type </th>\n",
    "\t\t\t<th>Description</th>\n",
    "\t\t</tr>\n",
    "\t</thead>\n",
    "\t<tbody>\n",
    "\t\t<tr>\n",
    "\t\t\t<td>timestamp</td>\n",
    "\t\t\t<td>INTEGER</td>\n",
    "\t\t\t<td>transaction time (Unix epoch time)</td>\n",
    "\t\t</tr>\n",
    "\t\t<tr>\n",
    "\t\t\t<td>transaction_id</td>\n",
    "\t\t\t<td>STRING</td>\n",
    "\t\t\t<td>transaction id</td>\n",
    "\t\t</tr>\n",
    "\t\t<tr>\n",
    "\t\t\t<td>inputs</td>\n",
    "\t\t\t<td>RECORD</td>\n",
    "\t\t\t<td>transaction input object  (array of transaction input)</td>\n",
    "\t\t</tr>\n",
    "\t\t<tr>\n",
    "\t\t\t<td>inputs.input_script_bytes</td>\n",
    "\t\t\t<td>BYTES</td>\n",
    "\t\t\t<td>unlocking script in bytes</td>\n",
    "\t\t</tr>\n",
    "\t\t<tr>\n",
    "\t\t\t<td>inputs.input_script_string</td>\n",
    "\t\t\t<td>STRING</td>\n",
    "\t\t\t<td>output의 locking script에 있는 조건을 만족해서 output을 쓸 수 있게 허락하는 스크립트\n",
    "\n",
    "</td>\n",
    "\t\t</tr>\n",
    "\t\t<tr>\n",
    "\t\t\t<td>inputs.input_script_string_error</td>\n",
    "\t\t\t<td>STRING</td>\n",
    "\t\t\t<td>If an error was occurred in ScriptSig, else null </td>\n",
    "\t\t</tr>\n",
    "\t\t<tr>\n",
    "\t\t\t<td>inputs.input_sequence_number</td>\n",
    "\t\t\t<td>INTEGER</td>\n",
    "\t\t\t<td>sequence number, Locktime을 사용하기 위한 숫자. 0xffffffff은 Bitcoin Core의 기본값이며 이때 Locktime은 비활성화 됨 </td>\n",
    "\t\t</tr>\n",
    "\t\t<tr>\n",
    "\t\t\t<td>inputs.input_pubkey_base58</td>\n",
    "\t\t\t<td>STRING</td>\n",
    "\t\t\t<td>public address, 보내는 주소 </td>\n",
    "\t\t</tr>\n",
    "\t\t<tr>\n",
    "\t\t\t<td>inputs.input_pubkey_base58_error</td>\n",
    "\t\t\t<td>STRING</td>\n",
    "\t\t\t<td>error in public address, 없으면 null </td>\n",
    "\t\t</tr>\n",
    "\t\t<tr>\n",
    "\t\t\t<td>outputs</td>\n",
    "\t\t\t<td>RECORD</td>\n",
    "\t\t\t<td>transaction output object (array of transaction output)</td>\n",
    "\t\t</tr>\n",
    "\t\t<tr>\n",
    "\t\t\t<td>outputs.output_satoshis</td>\n",
    "\t\t\t<td>INTEGER</td>\n",
    "\t\t\t<td>output bitcoin value in satoshis </td>\n",
    "\t\t</tr>\n",
    "\t\t<tr>\n",
    "\t\t\t<td>outputs.output_script_bytes</td>\n",
    "\t\t\t<td>BYTES</td>\n",
    "\t\t\t<td>locking script in bytes </td>\n",
    "\t\t</tr>\n",
    "\t\t<tr>\n",
    "\t\t\t<td>outputs.output_script_string</td>\n",
    "\t\t\t<td>STRING</td>\n",
    "\t\t\t<td>ScriptPubKey, output에 있는 value를 쓸 수 있으려면 반드시 충족해야 하는 조건을 가지고 있는 스크립트</td>\n",
    "\t\t</tr>\n",
    "\t\t<tr>\n",
    "\t\t\t<td>outputs.output_script_string_error</td>\n",
    "\t\t\t<td>STRING</td>\n",
    "\t\t\t<td>If an error was occurred in ScriptPubKey, else null </td>\n",
    "\t\t</tr>\n",
    "\t\t<tr>\n",
    "\t\t\t<td>outputs.output_pubkey_base58</td>\n",
    "\t\t\t<td>STRING</td>\n",
    "\t\t\t<td>public address, 받는 주소 </td>\n",
    "\t\t</tr>\n",
    "\t\t<tr>\n",
    "\t\t\t<td>outputs.output_pubkey_base58_error</td>\n",
    "\t\t\t<td>STRING</td>\n",
    "\t\t\t<td>error in public address, 없으면  null </td>\n",
    "\t\t</tr>\n",
    "\t\t<tr>\n",
    "\t\t\t<td>block_id</td>\n",
    "\t\t\t<td>STRING</td>\n",
    "\t\t\t<td>transaction이 confirm되어 포함된 block의 id (hash)</td>\n",
    "\t\t</tr>\n",
    "\t\t<tr>\n",
    "\t\t\t<td>previous_block</td>\n",
    "\t\t\t<td>STRING</td>\n",
    "\t\t\t<td>블록 체인에서 위의  \"block_id\" 바로 앞에 있는 block의 id (hash)</td>\n",
    "\t\t</tr>\n",
    "\t\t<tr>\n",
    "\t\t\t<td>merkle_root</td>\n",
    "\t\t\t<td>STRING</td>\n",
    "\t\t\t<td>이 거래에 포함된 모든 transaction id(hash)로 merkle tree, 2진 트리를 만들었을 때, 그 root에 있는hash</td>\n",
    "\t\t</tr>\n",
    "\t\t<tr>\n",
    "\t\t\t<td>nonce</td>\n",
    "\t\t\t<td>INTEGER</td>\n",
    "\t\t\t<td>block의 nonce </td>\n",
    "\t\t</tr>\n",
    "\t\t<tr>\n",
    "\t\t\t<td>version</td>\n",
    "\t\t\t<td>INTEGER</td>\n",
    "\t\t\t<td>block versions, block validation rule 버전. </td>\n",
    "\t\t</tr>\n",
    "\t\t<tr>\n",
    "\t\t\t<td>work_terahash</td>\n",
    "\t\t\t<td>INTEGER</td>\n",
    "\t\t\t<td>block이 confrim될 때 mining performance. (Th/s)</td>\n",
    "\t\t</tr>\n",
    "\t\t<tr>\n",
    "\t\t\t<td>work_error</td>\n",
    "\t\t\t<td>STRING</td>\n",
    "\t\t\t<td>If an error was occurred in mining process, else null </td>\n",
    "\t\t</tr>\n",
    "\t</tbody>\n",
    "</table>\n"
   ]
  },
  {
   "cell_type": "markdown",
   "metadata": {},
   "source": [
    "<a name='2'></a>\n",
    "## 2. EDA"
   ]
  },
  {
   "cell_type": "markdown",
   "metadata": {
    "collapsed": true
   },
   "source": [
    "<a name='2-1'></a>\n",
    "### 2-1. Transaction Input을 구성하는 UTXO의 갯수  \n",
    "\n",
    "Goal: \n",
    "- 거래 금액이 크면 클 수록 transaction input에 있는 UTXO갯수, 즉 리스트의 길이가 긴지 확인. \n",
    "- input길이가 긴 거래를 추적해서 어느 만큼의 UTXO로 이루어져있는지 알 수 있을 것"
   ]
  },
  {
   "cell_type": "code",
   "execution_count": 10,
   "metadata": {
    "collapsed": true
   },
   "outputs": [],
   "source": [
    "import os \n",
    "import pandas as pd\n",
    "\n",
    "# shell 프로파일에에 환경변수 설정안했으면 이렇게 할 수도 있음\n",
    "# os.environ['GOOGLE_APPLICATION_CREDENTIALS']='path/to/your/credentials/json'"
   ]
  },
  {
   "cell_type": "code",
   "execution_count": 46,
   "metadata": {},
   "outputs": [],
   "source": [
    "from google.cloud import bigquery\n",
    "client = bigquery.Client()\n",
    "\n",
    "# 여러 거래 유형이 있겠지만 여기서는 비트코인을 매수할 때, \n",
    "# 즉 output이 1개 일 때,\n",
    "# input 길이와 transaction hash를 알아낸다.  \n",
    "# 데이터 사용 쿼터가 있으므로 정렬하여 상위 1000개만 select \n",
    "\n",
    "query = \"\"\"SELECT distinct transaction_id as tx_hash, \n",
    "    ARRAY_LENGTH(inputs) as n_inputs, \n",
    "    o.output_satoshis as tx_amount FROM  \n",
    "    `bigquery-public-data.bitcoin_blockchain.transactions` JOIN\n",
    "    UNNEST(outputs) as o \n",
    "    where o.output_pubkey_base58 not in (SELECT i.input_pubkey_base58 \n",
    "    FROM UNNEST(inputs) as i) and ARRAY_LENGTH(outputs) = 1 \n",
    "    ORDER BY tx_amount desc limit 1000\"\"\"\n",
    "\n",
    "query_job = client.query(query)\n",
    "iterator = query_job.result(timeout=30)\n",
    "rows =list(iterator)"
   ]
  },
  {
   "cell_type": "code",
   "execution_count": 47,
   "metadata": {},
   "outputs": [],
   "source": [
    "tx_df_1 = pd.DataFrame(data=[list(x.values()) for x in rows], \n",
    "                       columns=list(rows[0].keys()))"
   ]
  },
  {
   "cell_type": "code",
   "execution_count": 48,
   "metadata": {
    "collapsed": true
   },
   "outputs": [],
   "source": [
    "# satoshis into BTC \n",
    "tx_df_1['tx_amount'] = round(tx_df_1['tx_amount']/10**8, 3)"
   ]
  },
  {
   "cell_type": "code",
   "execution_count": 49,
   "metadata": {
    "collapsed": true
   },
   "outputs": [],
   "source": [
    "# pickle \n",
    "tx_df_1.to_pickle('tx_df_1.pkl')"
   ]
  },
  {
   "cell_type": "code",
   "execution_count": 69,
   "metadata": {},
   "outputs": [
    {
     "data": {
      "image/png": "[encoded data removed]",
      "text/plain": [
       "<matplotlib.figure.Figure at 0x1191e9278>"
      ]
     },
     "metadata": {},
     "output_type": "display_data"
    }
   ],
   "source": [
    "import matplotlib.pyplot as plt \n",
    "import seaborn as sns \n",
    "\n",
    "plt.figure(figsize=(8, 6))\n",
    "sns.regplot(x=tx_df_1[\"tx_amount\"], y=tx_df_1[\"n_inputs\"])\n",
    "plt.show()"
   ]
  },
  {
   "cell_type": "code",
   "execution_count": 52,
   "metadata": {},
   "outputs": [
    {
     "data": {
      "text/html": [
       "<div>\n",
       "<style>\n",
       "    .dataframe thead tr:only-child th {\n",
       "        text-align: right;\n",
       "    }\n",
       "\n",
       "    .dataframe thead th {\n",
       "        text-align: left;\n",
       "    }\n",
       "\n",
       "    .dataframe tbody tr th {\n",
       "        vertical-align: top;\n",
       "    }\n",
       "</style>\n",
       "<table border=\"1\" class=\"dataframe\">\n",
       "  <thead>\n",
       "    <tr style=\"text-align: right;\">\n",
       "      <th></th>\n",
       "      <th>tx_hash</th>\n",
       "      <th>n_inputs</th>\n",
       "      <th>tx_amount</th>\n",
       "    </tr>\n",
       "  </thead>\n",
       "  <tbody>\n",
       "    <tr>\n",
       "      <th>499</th>\n",
       "      <td>7d348c91ea32bc3e4f9b9adbdf89080a6ca573d0c301e6...</td>\n",
       "      <td>614</td>\n",
       "      <td>9000.0</td>\n",
       "    </tr>\n",
       "    <tr>\n",
       "      <th>363</th>\n",
       "      <td>f8cb81f7c996d83805ea57aef41dabd15feaf09620fd71...</td>\n",
       "      <td>618</td>\n",
       "      <td>10000.0</td>\n",
       "    </tr>\n",
       "    <tr>\n",
       "      <th>972</th>\n",
       "      <td>109e92e8d5e38ae3d3c184d9f9de04d26234bec04dac23...</td>\n",
       "      <td>639</td>\n",
       "      <td>5000.0</td>\n",
       "    </tr>\n",
       "    <tr>\n",
       "      <th>776</th>\n",
       "      <td>5c72813390d9eddc3b40c1fb9e3b8bef5849ff73584c8c...</td>\n",
       "      <td>661</td>\n",
       "      <td>5906.0</td>\n",
       "    </tr>\n",
       "    <tr>\n",
       "      <th>494</th>\n",
       "      <td>754640b644a9e5b37be661eb68667da366c76b00064a5d...</td>\n",
       "      <td>734</td>\n",
       "      <td>9000.0</td>\n",
       "    </tr>\n",
       "  </tbody>\n",
       "</table>\n",
       "</div>"
      ],
      "text/plain": [
       "                                               tx_hash  n_inputs  tx_amount\n",
       "499  7d348c91ea32bc3e4f9b9adbdf89080a6ca573d0c301e6...       614     9000.0\n",
       "363  f8cb81f7c996d83805ea57aef41dabd15feaf09620fd71...       618    10000.0\n",
       "972  109e92e8d5e38ae3d3c184d9f9de04d26234bec04dac23...       639     5000.0\n",
       "776  5c72813390d9eddc3b40c1fb9e3b8bef5849ff73584c8c...       661     5906.0\n",
       "494  754640b644a9e5b37be661eb68667da366c76b00064a5d...       734     9000.0"
      ]
     },
     "execution_count": 52,
     "metadata": {},
     "output_type": "execute_result"
    }
   ],
   "source": [
    "# input 갯수가 많은 거래 \n",
    "tx_df_1.sort_values(by='n_inputs').tail()"
   ]
  },
  {
   "cell_type": "markdown",
   "metadata": {},
   "source": [
    "Thoughts: \n",
    "\n",
    "- tx_amount가 많아진다고 해서 소비되는 UTXO의 개수도 늘어나는것은 아님  \n",
    "- 100,000 BTC 이상 매수한 경우 대부분 UTXO가 1개 소비됨, input, output이 모두 한개로만 이루어져 있는 경우임. 자기 자신이 소유하고 있는 다른 주소로 전체 큰 단위의 UTXO를 전송 했을 가능성이 높음.  \n",
    "- 100,000 BTC 이하로 매수한 경우 UTXO의 분포가 엄청 긴 tail을 가지는 것으로 보임\n",
    "\n",
    "그럼, 100,000BTC를 기준으로 구간을 나누어서 그래프를 다시 그려보면, "
   ]
  },
  {
   "cell_type": "code",
   "execution_count": 67,
   "metadata": {},
   "outputs": [
    {
     "data": {
      "image/png": "[encoded data removed]",
      "text/plain": [
       "<matplotlib.figure.Figure at 0x11a95d710>"
      ]
     },
     "metadata": {},
     "output_type": "display_data"
    }
   ],
   "source": [
    "# 100,000 BTC 이상 매수한 경우\n",
    "sns.regplot(x=tx_df_1[tx_df_1['tx_amount'] > 100000][\"tx_amount\"], \n",
    "            y=tx_df_1[tx_df_1['tx_amount'] > 100000][\"n_inputs\"])\n",
    "plt.show()"
   ]
  },
  {
   "cell_type": "code",
   "execution_count": 64,
   "metadata": {},
   "outputs": [
    {
     "data": {
      "image/png": "[encoded data removed]",
      "text/plain": [
       "<matplotlib.figure.Figure at 0x11a00b978>"
      ]
     },
     "metadata": {},
     "output_type": "display_data"
    }
   ],
   "source": [
    "sns.distplot(tx_df_1[tx_df_1['tx_amount'] > 100000]['n_inputs'])\n",
    "plt.show()"
   ]
  },
  {
   "cell_type": "code",
   "execution_count": 85,
   "metadata": {},
   "outputs": [
    {
     "data": {
      "image/png": "[encoded data removed]",
      "text/plain": [
       "<matplotlib.figure.Figure at 0x1196449b0>"
      ]
     },
     "metadata": {},
     "output_type": "display_data"
    }
   ],
   "source": [
    "# 100,000 BTC이하로 매수한 경우\n",
    "sns.regplot(x=tx_df_1[tx_df_1['tx_amount'] < 100000][\"tx_amount\"],\n",
    "            y=tx_df_1[tx_df_1['tx_amount'] < 100000][\"n_inputs\"])\n",
    "plt.show()"
   ]
  },
  {
   "cell_type": "code",
   "execution_count": 84,
   "metadata": {},
   "outputs": [
    {
     "data": {
      "image/png": "[encoded data removed]",
      "text/plain": [
       "<matplotlib.figure.Figure at 0x1196e5160>"
      ]
     },
     "metadata": {},
     "output_type": "display_data"
    }
   ],
   "source": [
    "sns.distplot(tx_df_1[tx_df_1['tx_amount'] < 100000]['n_inputs'])\n",
    "plt.show()"
   ]
  },
  {
   "cell_type": "markdown",
   "metadata": {},
   "source": [
    "Conclusion: \n",
    "- 매수금액이 큰 경우(5,000BTC 이상), 금액과 input list길이는 비례 하지 않음\n",
    "- 범위를 나눠서 100,000BTC 이상인 경우, 금액이 클수록 input list 길이는 줄어드는 것으로 보임. input list길이의 분포는 왼쪽으로 치우쳐 있음\n",
    "- 그 이하인 경우 별다른 경향성은 없어 보임. input list의 분포는 왼쪽으로 치우쳐 있고 매우 긴 tail을 가지고 있음\n",
    "- 거래 금액을 내림차순으로 정렬해서 상위 1000개만 선택했으니까, 상대적으로 소액을 매수한 케이스는 볼 수없었음. 현재 1000rows limit으로 쿼리를 실행하는데, 소액 매수는 데이터 포인트가 훨씬 많을 것이기 때문에 1000 rows로는 다양한 거래 금액 데이터 포인트를 볼 수 없을 것. 따라서 쿼터제한이 있는 지금 같은 경우 쿼리 튜닝이 필요함  \n",
    "\n",
    "아래의 경우 1000개 모두 거래 금액이 100BTC인 경우라서 거래금액, input list길이 사이 관계 확인이 불가능"
   ]
  },
  {
   "cell_type": "code",
   "execution_count": 75,
   "metadata": {},
   "outputs": [],
   "source": [
    "# query = \"\"\"SELECT distinct transaction_id as tx_hash, \n",
    "#     ARRAY_LENGTH(inputs) as n_inputs, \n",
    "#     o.output_satoshis as tx_amount FROM  \n",
    "#     `bigquery-public-data.bitcoin_blockchain.transactions` JOIN\n",
    "#     UNNEST(outputs) as o \n",
    "#     where o.output_pubkey_base58 not in (SELECT i.input_pubkey_base58 \n",
    "#     FROM UNNEST(inputs) as i) and ARRAY_LENGTH(outputs) = 1 \n",
    "#     and o.output_satoshis < 10000000000\n",
    "#     ORDER BY tx_amount desc limit 1000\"\"\"\n",
    "\n",
    "# query_job = client.query(query)\n",
    "# iterator = query_job.result(timeout=30)\n",
    "# rows =list(iterator)\n",
    "\n",
    "# tx_df_2 = pd.DataFrame(data=[list(x.values()) for x in rows], \n",
    "#                        columns=list(rows[0].keys()))\n",
    "\n",
    "# # satoshis into BTC \n",
    "# tx_df_2['tx_amount'] = round(tx_df_2['tx_amount']/10**8, 3)\n",
    "\n",
    "# # pickle \n",
    "# tx_df_2.to_pickle('tx_df_2.pkl')"
   ]
  },
  {
   "cell_type": "code",
   "execution_count": 87,
   "metadata": {},
   "outputs": [
    {
     "data": {
      "image/png": "[encoded data removed]",
      "text/plain": [
       "<matplotlib.figure.Figure at 0x119d63748>"
      ]
     },
     "metadata": {},
     "output_type": "display_data"
    }
   ],
   "source": [
    "# sns.regplot(x=tx_df_2[\"tx_amount\"], y=tx_df_2[\"n_inputs\"])\n",
    "# plt.show()"
   ]
  },
  {
   "cell_type": "markdown",
   "metadata": {},
   "source": [
    "<a name='2-2'></a>\n",
    "### 2-2. transaction amount in BTC vs. transaction count in time series\n",
    "\n",
    "Goal: Bitcoin/USD가격이 급등하면서 거래되는 bitcoin금액과 거래 횟수가 어떻게 변화하는지 확인"
   ]
  },
  {
   "cell_type": "code",
   "execution_count": 90,
   "metadata": {},
   "outputs": [],
   "source": [
    "# transaction amount in BTC \n",
    "query = \"\"\"SELECT TIMESTAMP_MILLIS((timestamp - MOD(timestamp, \n",
    "        86400000))) AS date, avg(o.output_satoshis) as tx_amount_avg \n",
    "        FROM `bigquery-public-data.bitcoin_blockchain.transactions` JOIN \n",
    "        UNNEST(outputs) as o GROUP BY date ORDER BY tx_amount_avg DESC\n",
    "\"\"\"\n",
    "\n",
    "query_job = client.query(query)\n",
    "iterator = query_job.result(timeout=30)\n",
    "rows = list(iterator)"
   ]
  },
  {
   "cell_type": "code",
   "execution_count": 99,
   "metadata": {},
   "outputs": [],
   "source": [
    "tx_date_df = pd.DataFrame(data=[list(x.values()) for x in rows], \n",
    "                       columns=list(rows[0].keys()))\n",
    "tx_date_df['tx_amount_avg'] = tx_date_df['tx_amount_avg']/10**8\n",
    "tx_date_df = tx_date_df.sort_values(by='date')"
   ]
  },
  {
   "cell_type": "code",
   "execution_count": 100,
   "metadata": {},
   "outputs": [
    {
     "data": {
      "image/png": "[encoded data removed]",
      "text/plain": [
       "<matplotlib.figure.Figure at 0x112e6bc18>"
      ]
     },
     "metadata": {},
     "output_type": "display_data"
    }
   ],
   "source": [
    "tx_date_df.set_index('date').plot()\n",
    "plt.show()"
   ]
  },
  {
   "cell_type": "code",
   "execution_count": 103,
   "metadata": {},
   "outputs": [],
   "source": [
    "# transaction count \n",
    "query = \"\"\"SELECT  TIMESTAMP_MILLIS((timestamp - MOD(timestamp,\n",
    "          86400000))) AS date, count(o.output_satoshis) as tx_count from \n",
    "    `bigquery-public-data.bitcoin_blockchain.transactions`JOIN\n",
    "    UNNEST(outputs) as o group by date order by tx_count\n",
    "\"\"\"\n",
    "\n",
    "query_job = client.query(query)\n",
    "iterator = query_job.result()\n",
    "rows = list(iterator)"
   ]
  },
  {
   "cell_type": "code",
   "execution_count": 106,
   "metadata": {},
   "outputs": [],
   "source": [
    "tx_cnt_df = pd.DataFrame(data=[list(x.values()) for x in rows], \n",
    "                       columns=list(rows[0].keys()))\n",
    "tx_cnt_df = tx_cnt_df.sort_values(by='date')"
   ]
  },
  {
   "cell_type": "code",
   "execution_count": 107,
   "metadata": {},
   "outputs": [
    {
     "data": {
      "image/png": "[encoded data removed]",
      "text/plain": [
       "<matplotlib.figure.Figure at 0x119d63c50>"
      ]
     },
     "metadata": {},
     "output_type": "display_data"
    }
   ],
   "source": [
    "tx_cnt_df.set_index('date').plot()\n",
    "plt.show()"
   ]
  },
  {
   "cell_type": "code",
   "execution_count": 120,
   "metadata": {},
   "outputs": [
    {
     "data": {
      "image/png": "[encoded data removed]",
      "text/plain": [
       "<matplotlib.figure.Figure at 0x1191641d0>"
      ]
     },
     "metadata": {},
     "output_type": "display_data"
    }
   ],
   "source": [
    "merged_df = pd.merge(tx_cnt_df, tx_date_df, on='date')\n",
    "\n",
    "ax = merged_df.plot(x='date', y='tx_amount_avg', legend=False)\n",
    "ax2= ax.twinx()\n",
    "ax2 = merged_df.plot(x='date', y='tx_count', ax=ax2, legend=False, color='r')\n",
    "plt.show()"
   ]
  },
  {
   "cell_type": "code",
   "execution_count": 130,
   "metadata": {},
   "outputs": [
    {
     "name": "stdout",
     "output_type": "stream",
     "text": [
      "2017 년 이후 평균 거래 금액 in BTC:  3.35803007994\n",
      "2013 년 동안 평균 거래 금액 in BTC:  8.76137271573\n"
     ]
    }
   ],
   "source": [
    "print(\"2017 년 이후 평균 거래 금액 in BTC: \", \n",
    "      merged_df[(merged_df['date']>'2017')].tx_amount_avg.mean())\n",
    "\n",
    "print(\"2013 년 동안 평균 거래 금액 in BTC: \",\n",
    "    merged_df[(merged_df['date']>'2013') & (merged_df['date']<'2014') ].tx_amount_avg.mean())"
   ]
  },
  {
   "cell_type": "markdown",
   "metadata": {},
   "source": [
    "Conclusion:\n",
    "- Bitcoin은 인플레이션이 일어나지 않도록 그 총액이 정해져 있으므로, 2013년 이후 거래 건수가 급증함에 따라, 평균 거래 금액(BTC)도 현저하게 줄어듬\n",
    "- 2013년 이후로 거래 횟수는 크게 성장 했지만, 평균 거래 금액의 경우 2013년 이후 큰 변화는 없음 "
   ]
  },
  {
   "cell_type": "markdown",
   "metadata": {},
   "source": [
    "<a name='2-3'></a>\n",
    "### 2-3. script가 RETURN인 transaction 살펴보기 \n",
    "\n",
    "Goal: \n",
    "- standard transaction중, null data는 transaction 데이터에 비트코인 거래와 관계없는 데이터를 80bytes까지 넣을 수 있게 하는 거래 유형이다. 이 null data transaction의 경우 output transaction에 `RETURN` operator를 넣어서 구분함. \n",
    "- null data transaction에 입력된 데이터를 decode해서 어떤 arbitrary data가 transaction에 포함되는지 알아봄\n",
    "- 나중에 digital asset이나 contract를 확인할 때 쓰일 수 있음"
   ]
  },
  {
   "cell_type": "code",
   "execution_count": 143,
   "metadata": {
    "collapsed": true
   },
   "outputs": [],
   "source": [
    "query = \"\"\"SELECT distinct transaction_id as tx_id ,\n",
    "    ARRAY_LENGTH(inputs) as n_inputs,\n",
    "    ARRAY_LENGTH(outputs) as n_outputs,\n",
    "    o.output_script_string FROM\n",
    "    `bigquery-public-data.bitcoin_blockchain.transactions` JOIN\n",
    "    UNNEST(outputs)as o, UNNEST(inputs) as i \n",
    "    where o.output_script_string LIKE '%RETURN%' limit 1000\"\"\""
   ]
  },
  {
   "cell_type": "code",
   "execution_count": 144,
   "metadata": {
    "collapsed": true
   },
   "outputs": [],
   "source": [
    "query_job = client.query(query)\n",
    "iterator = query_job.result(timeout=30)\n",
    "rows = list(iterator)"
   ]
  },
  {
   "cell_type": "code",
   "execution_count": 145,
   "metadata": {},
   "outputs": [],
   "source": [
    "null_data_df = pd.DataFrame(data=[list(x.values()) for x in rows], columns=list(rows[0].keys()))"
   ]
  },
  {
   "cell_type": "code",
   "execution_count": 146,
   "metadata": {},
   "outputs": [
    {
     "data": {
      "text/html": [
       "<div>\n",
       "<style>\n",
       "    .dataframe thead tr:only-child th {\n",
       "        text-align: right;\n",
       "    }\n",
       "\n",
       "    .dataframe thead th {\n",
       "        text-align: left;\n",
       "    }\n",
       "\n",
       "    .dataframe tbody tr th {\n",
       "        vertical-align: top;\n",
       "    }\n",
       "</style>\n",
       "<table border=\"1\" class=\"dataframe\">\n",
       "  <thead>\n",
       "    <tr style=\"text-align: right;\">\n",
       "      <th></th>\n",
       "      <th>tx_id</th>\n",
       "      <th>n_inputs</th>\n",
       "      <th>n_outputs</th>\n",
       "      <th>output_script_string</th>\n",
       "    </tr>\n",
       "  </thead>\n",
       "  <tbody>\n",
       "    <tr>\n",
       "      <th>995</th>\n",
       "      <td>0d2ef6b56f876dcb2a358eba19f2bcb0eb5cb24a3244c6...</td>\n",
       "      <td>4</td>\n",
       "      <td>4</td>\n",
       "      <td>RETURN PUSHDATA(23)[4153435249424553504f4f4c30...</td>\n",
       "    </tr>\n",
       "    <tr>\n",
       "      <th>996</th>\n",
       "      <td>82ea621a90fdbf1d1c18c024b8c5b225d2e042efb288a3...</td>\n",
       "      <td>4</td>\n",
       "      <td>4</td>\n",
       "      <td>RETURN PUSHDATA(18)[4f4101000380dbd5fe0a80f8e4...</td>\n",
       "    </tr>\n",
       "    <tr>\n",
       "      <th>997</th>\n",
       "      <td>c9b51a4b6fe04ad20e91cadb255b19f71f174c6484537f...</td>\n",
       "      <td>4</td>\n",
       "      <td>4</td>\n",
       "      <td>RETURN PUSHDATA(23)[4153435249424553504f4f4c30...</td>\n",
       "    </tr>\n",
       "    <tr>\n",
       "      <th>998</th>\n",
       "      <td>cde437ad9f0d154f0fbdbbc147919efeba5023c32722bf...</td>\n",
       "      <td>4</td>\n",
       "      <td>4</td>\n",
       "      <td>RETURN PUSHDATA(19)[4153435249424553504f4f4c30...</td>\n",
       "    </tr>\n",
       "    <tr>\n",
       "      <th>999</th>\n",
       "      <td>6c8434f6ab374b6d3768d2f8c79b5bcfaecf01d15e6020...</td>\n",
       "      <td>4</td>\n",
       "      <td>6</td>\n",
       "      <td>RETURN PUSHDATA(16)[4f41010002a0cf96d816d0b4dd...</td>\n",
       "    </tr>\n",
       "  </tbody>\n",
       "</table>\n",
       "</div>"
      ],
      "text/plain": [
       "                                                 tx_id  n_inputs  n_outputs  \\\n",
       "995  0d2ef6b56f876dcb2a358eba19f2bcb0eb5cb24a3244c6...         4          4   \n",
       "996  82ea621a90fdbf1d1c18c024b8c5b225d2e042efb288a3...         4          4   \n",
       "997  c9b51a4b6fe04ad20e91cadb255b19f71f174c6484537f...         4          4   \n",
       "998  cde437ad9f0d154f0fbdbbc147919efeba5023c32722bf...         4          4   \n",
       "999  6c8434f6ab374b6d3768d2f8c79b5bcfaecf01d15e6020...         4          6   \n",
       "\n",
       "                                  output_script_string  \n",
       "995  RETURN PUSHDATA(23)[4153435249424553504f4f4c30...  \n",
       "996  RETURN PUSHDATA(18)[4f4101000380dbd5fe0a80f8e4...  \n",
       "997  RETURN PUSHDATA(23)[4153435249424553504f4f4c30...  \n",
       "998  RETURN PUSHDATA(19)[4153435249424553504f4f4c30...  \n",
       "999  RETURN PUSHDATA(16)[4f41010002a0cf96d816d0b4dd...  "
      ]
     },
     "execution_count": 146,
     "metadata": {},
     "output_type": "execute_result"
    }
   ],
   "source": [
    "null_data_df.tail()"
   ]
  },
  {
   "cell_type": "code",
   "execution_count": 186,
   "metadata": {},
   "outputs": [
    {
     "name": "stderr",
     "output_type": "stream",
     "text": [
      "/usr/local/lib/python3.6/site-packages/ipykernel_launcher.py:3: FutureWarning: currently extract(expand=None) means expand=False (return Index/Series/DataFrame) but in a future version of pandas this will be changed to expand=True (return DataFrame)\n",
      "  This is separate from the ipykernel package so we can avoid doing imports until\n"
     ]
    }
   ],
   "source": [
    "import binascii\n",
    "import numpy as np\n",
    "null_data_df['arbitrary_data'] = null_data_df.output_script_string.str.extract('.*\\[(.*)\\]')\n",
    "null_data_df['arbitrary_data_decoded'] = null_data_df.apply(lambda x: binascii.unhexlify(x.arbitrary_data) if x.arbitrary_data is not np.nan else np.nan, axis=1)"
   ]
  },
  {
   "cell_type": "code",
   "execution_count": 195,
   "metadata": {
    "collapsed": true
   },
   "outputs": [],
   "source": [
    "null_data_df.to_pickle('null_data_df.pkl')"
   ]
  },
  {
   "cell_type": "code",
   "execution_count": 197,
   "metadata": {},
   "outputs": [
    {
     "data": {
      "text/plain": [
       "980    b'omni\\x00\\x00\\x00\\x00\\x00\\x00\\x00\\x1f\\x00\\x00...\n",
       "981    b'omni\\x00\\x00\\x00\\x00\\x00\\x00\\x00\\x1f\\x00\\x00...\n",
       "982    b'omni\\x00\\x00\\x00\\x00\\x00\\x00\\x00\\x1f\\x00\\x00...\n",
       "983    b'omni\\x00\\x00\\x00\\x00\\x00\\x00\\x00\\x1f\\x00\\x00...\n",
       "984    b'id:m1000.id\\x00\\x00\\x00\\x00\\x00\\x00\\x00\\x00\\...\n",
       "985    b'OA\\x01\\x00\\x04\\xc6\\xfe\\x16\\xbc\\xf3\\xb4\\x01\\x...\n",
       "986    b'\\x80m\\xe7C\\xb9\\xf0P\\xd6\\x9b\\x82+\\x0c,\\xbe?\\x...\n",
       "987    b'omni\\x00\\x00\\x00\\x00\\x00\\x00\\x00\\x1f\\x00\\x00...\n",
       "988    b'H;\\xa6\\xff\\xa7&\\xb7V\\x11x\\x04\\xa3`\\x9fZ\\x17\\...\n",
       "989    b'\\x13\\xe8\\xa0\\xa4&NU\\x1e\\x1e\\xb3\\n\\x95\\xbb\\xe...\n",
       "990                          b'2NOmHXmcIp3R/G2E8THPrA=='\n",
       "991                                b'ASCRIBESPOOL01FUEL'\n",
       "992                           b'ASCRIBESPOOL01EDITIONS1'\n",
       "993                           b'ASCRIBESPOOL01EDITIONS2'\n",
       "994                                b'ASCRIBESPOOL01FUEL'\n",
       "995                           b'ASCRIBESPOOL01EDITIONS0'\n",
       "996    b'OA\\x01\\x00\\x03\\x80\\xdb\\xd5\\xfe\\n\\x80\\xf8\\xe4...\n",
       "997                           b'ASCRIBESPOOL01EDITIONS3'\n",
       "998                               b'ASCRIBESPOOL01PIECE'\n",
       "999    b'OA\\x01\\x00\\x02\\xa0\\xcf\\x96\\xd8\\x16\\xd0\\xb4\\x...\n",
       "Name: arbitrary_data_decoded, dtype: object"
      ]
     },
     "execution_count": 197,
     "metadata": {},
     "output_type": "execute_result"
    }
   ],
   "source": [
    "# Decoded Arbitrary Data \n",
    "null_data_df.arbitrary_data_decoded.tail(20)"
   ]
  },
  {
   "cell_type": "markdown",
   "metadata": {},
   "source": [
    "Conclusion: \n",
    "    - RETURN operator에 적힌 데이터를 추출 해 내는 것은 단순 정규식으로도 가능함\n",
    "    - RETURN 뒤에 추가 데이터를 쓰지 않은 경우도 있음\n",
    "    - decode해서 plain english로 알아 들을 수 있는 경우(예를 들어 ASCRIBESPOOL01PIECE)도 있지만 이해관계에 없는 사람은 이해 할 수 없는, 암호화 된 데이터도 쉽게 해석 할 수 없는 경우도 많다"
   ]
  }
 ],
 "metadata": {
  "kernelspec": {
   "display_name": "Python 3",
   "language": "python",
   "name": "python3"
  }
 },
 "nbformat": 4,
 "nbformat_minor": 2
}
